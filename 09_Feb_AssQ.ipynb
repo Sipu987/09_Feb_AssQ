{
 "cells": [
  {
   "cell_type": "code",
   "execution_count": 7,
   "id": "7970e0af",
   "metadata": {},
   "outputs": [],
   "source": [
    "##Q.1\n",
    "class vehicle:\n",
    "    def __init__(self,name_of_vehicle,max_speed,average_of_vehicle):\n",
    "        self.name_of_vehicle = name_of_vehicle\n",
    "        self.max_speed = max_speed\n",
    "        self.average_of_vehicle = average_of_vehicle\n",
    "        \n",
    "    def vehicle_details(self):\n",
    "        print(f\"My car name is {self.name_of_vehicle}. My car speed is {self.max_speed} and average is {self.average_of_vehicle}\")"
   ]
  },
  {
   "cell_type": "code",
   "execution_count": 8,
   "id": "15480bba",
   "metadata": {},
   "outputs": [],
   "source": [
    "Tayota = vehicle(\"Glanza\",125,19)"
   ]
  },
  {
   "cell_type": "code",
   "execution_count": 9,
   "id": "f9f1527a",
   "metadata": {},
   "outputs": [
    {
     "name": "stdout",
     "output_type": "stream",
     "text": [
      "My car name is Glanza. My car speed is 125 and average is 19\n"
     ]
    }
   ],
   "source": [
    "Tayota.vehicle_details()"
   ]
  },
  {
   "cell_type": "markdown",
   "id": "181ce16f",
   "metadata": {},
   "source": [
    "### Q.2."
   ]
  },
  {
   "cell_type": "code",
   "execution_count": 22,
   "id": "2b6d9c2a",
   "metadata": {},
   "outputs": [],
   "source": [
    "class sub_class(vehicle):\n",
    "    def __init__(self,name_of_vehicle,max_speed,average_of_vehicle,seating_capacity):\n",
    "        super(). __init__(name_of_vehicle, max_speed, average_of_vehicle)\n",
    "        self.seating_capacity = seating_capacity\n",
    "    \n",
    "    def vehicle_info(self):\n",
    "        print(f\"My car name is {self.name_of_vehicle}. Total seating capacity is {self.seating_capacity} \")"
   ]
  },
  {
   "cell_type": "code",
   "execution_count": 23,
   "id": "1ff4f1fb",
   "metadata": {},
   "outputs": [],
   "source": [
    "Maruti = sub_class(\"Baleno\", 121, 21, 5)"
   ]
  },
  {
   "cell_type": "code",
   "execution_count": 24,
   "id": "17e91afb",
   "metadata": {},
   "outputs": [
    {
     "name": "stdout",
     "output_type": "stream",
     "text": [
      "My car name is Baleno. Total seating capacity is 5 \n"
     ]
    }
   ],
   "source": [
    "Maruti.vehicle_info()"
   ]
  },
  {
   "cell_type": "markdown",
   "id": "19e5cad5",
   "metadata": {},
   "source": [
    "### Q.3"
   ]
  },
  {
   "cell_type": "code",
   "execution_count": 25,
   "id": "41effcb0",
   "metadata": {},
   "outputs": [],
   "source": [
    "##Ans :- A class can be dervied from two or more subclass in python. \n",
    "## That is called multiplae Inheritance method"
   ]
  },
  {
   "cell_type": "code",
   "execution_count": 32,
   "id": "3baa580f",
   "metadata": {},
   "outputs": [],
   "source": [
    "class water:\n",
    "    def water_info(self):\n",
    "        print(\"Taste of water is sweet\")\n",
    "class flow:\n",
    "    def flow_info(self):\n",
    "        print(\"It always flows from high to low ground\")\n",
    "class river(water,flow):\n",
    "    pass        "
   ]
  },
  {
   "cell_type": "code",
   "execution_count": 33,
   "id": "6040fd0e",
   "metadata": {},
   "outputs": [],
   "source": [
    "Ganga = river()"
   ]
  },
  {
   "cell_type": "code",
   "execution_count": 35,
   "id": "d225c837",
   "metadata": {},
   "outputs": [
    {
     "name": "stdout",
     "output_type": "stream",
     "text": [
      "It always flows from high to low ground\n"
     ]
    }
   ],
   "source": [
    "Ganga.flow_info()"
   ]
  },
  {
   "cell_type": "code",
   "execution_count": 36,
   "id": "c1564733",
   "metadata": {},
   "outputs": [
    {
     "name": "stdout",
     "output_type": "stream",
     "text": [
      "Taste of water is sweet\n"
     ]
    }
   ],
   "source": [
    "Ganga.water_info()"
   ]
  },
  {
   "cell_type": "markdown",
   "id": "89966274",
   "metadata": {},
   "source": [
    "### Q.4"
   ]
  },
  {
   "cell_type": "code",
   "execution_count": 44,
   "id": "0e0f7dd4",
   "metadata": {},
   "outputs": [],
   "source": [
    "## Getter and setter used in purpose of data encapsulation. We use this to hide attributes of \n",
    "# object class from other class becasue we do not want object gets modified by accidentally.\n",
    "class Tiger:\n",
    "    def __init__(self,weight,height,speed):\n",
    "        self.__weight = weight\n",
    "        self.__height = height\n",
    "        self.__speed = 0\n",
    "        \n",
    "    def set_speed(self,speed):\n",
    "        self.__speed = 0 if speed < 0 else speed\n",
    "        \n",
    "    def get_speed(self):\n",
    "        return self.__speed        "
   ]
  },
  {
   "cell_type": "code",
   "execution_count": 45,
   "id": "fa9d10e2",
   "metadata": {},
   "outputs": [],
   "source": [
    "cheta = Tiger(80, 4.5, 159)"
   ]
  },
  {
   "cell_type": "code",
   "execution_count": 51,
   "id": "8ddcef7e",
   "metadata": {},
   "outputs": [
    {
     "data": {
      "text/plain": [
       "123"
      ]
     },
     "execution_count": 51,
     "metadata": {},
     "output_type": "execute_result"
    }
   ],
   "source": [
    "cheta.get_speed()"
   ]
  },
  {
   "cell_type": "code",
   "execution_count": 52,
   "id": "e49f1235",
   "metadata": {},
   "outputs": [],
   "source": [
    "cheta.set_speed(114)"
   ]
  },
  {
   "cell_type": "code",
   "execution_count": 53,
   "id": "78c76e5b",
   "metadata": {},
   "outputs": [
    {
     "data": {
      "text/plain": [
       "114"
      ]
     },
     "execution_count": 53,
     "metadata": {},
     "output_type": "execute_result"
    }
   ],
   "source": [
    "cheta._Tiger__speed"
   ]
  },
  {
   "cell_type": "markdown",
   "id": "cb97d0fb",
   "metadata": {},
   "source": [
    "## Q.5"
   ]
  },
  {
   "cell_type": "code",
   "execution_count": 90,
   "id": "7d9fd58a",
   "metadata": {},
   "outputs": [],
   "source": [
    "#Method overriding is a cooncept in OOPS  where is allows us to change the implementaion in  \n",
    "# child class which already derived in parent class.\n",
    "\n",
    "class Animal:\n",
    "    def __init__(self, weight, speed):\n",
    "        self.weight = weight\n",
    "        self.speed = speed\n",
    "        \n",
    "    def animal_details(self):\n",
    "        print(f\"My weight is {self.weight} but i can ran in {self.speed} km per hour\")"
   ]
  },
  {
   "cell_type": "code",
   "execution_count": 98,
   "id": "e6fe8e6e",
   "metadata": {},
   "outputs": [],
   "source": [
    "class Leopard(Animal):\n",
    "    def animal_details(self):\n",
    "        print(f\"I am fastest animal. My weight is {self.weight} and My speed is 170 km per hour\")"
   ]
  },
  {
   "cell_type": "code",
   "execution_count": 99,
   "id": "e79bbc75",
   "metadata": {},
   "outputs": [],
   "source": [
    "sammy = Leopard(131, 100)"
   ]
  },
  {
   "cell_type": "code",
   "execution_count": 100,
   "id": "c257ae77",
   "metadata": {},
   "outputs": [
    {
     "name": "stdout",
     "output_type": "stream",
     "text": [
      "I am fastest animal. My weight is 131 and My speed is 170 km per hour\n"
     ]
    }
   ],
   "source": [
    "sammy.animal_details()"
   ]
  },
  {
   "cell_type": "code",
   "execution_count": null,
   "id": "ed69725f",
   "metadata": {},
   "outputs": [],
   "source": []
  },
  {
   "cell_type": "code",
   "execution_count": null,
   "id": "ba3fa840",
   "metadata": {},
   "outputs": [],
   "source": []
  }
 ],
 "metadata": {
  "kernelspec": {
   "display_name": "Python 3",
   "language": "python",
   "name": "python3"
  },
  "language_info": {
   "codemirror_mode": {
    "name": "ipython",
    "version": 3
   },
   "file_extension": ".py",
   "mimetype": "text/x-python",
   "name": "python",
   "nbconvert_exporter": "python",
   "pygments_lexer": "ipython3",
   "version": "3.8.8"
  }
 },
 "nbformat": 4,
 "nbformat_minor": 5
}
